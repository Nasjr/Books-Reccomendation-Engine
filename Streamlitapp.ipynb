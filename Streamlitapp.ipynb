{
 "cells": [
  {
   "cell_type": "code",
   "execution_count": 27,
   "metadata": {},
   "outputs": [
    {
     "name": "stdout",
     "output_type": "stream",
     "text": [
      "Collecting streamlit_option_menu\n",
      "  Downloading streamlit_option_menu-0.3.2-py3-none-any.whl (712 kB)\n",
      "                                              0.0/712.3 kB ? eta -:--:--\n",
      "     --                                    41.0/712.3 kB 991.0 kB/s eta 0:00:01\n",
      "     --------                               163.8/712.3 kB 2.0 MB/s eta 0:00:01\n",
      "     ----------------                       307.2/712.3 kB 2.1 MB/s eta 0:00:01\n",
      "     -----------------------                440.3/712.3 kB 2.5 MB/s eta 0:00:01\n",
      "     --------------------------------       614.4/712.3 kB 2.8 MB/s eta 0:00:01\n",
      "     -------------------------------------  696.3/712.3 kB 2.6 MB/s eta 0:00:01\n",
      "     -------------------------------------- 712.3/712.3 kB 2.4 MB/s eta 0:00:00\n",
      "Requirement already satisfied: streamlit>=0.63 in c:\\users\\mahmoudnasser\\appdata\\local\\programs\\python\\python310\\lib\\site-packages (from streamlit_option_menu) (1.22.0)\n",
      "Requirement already satisfied: altair<5,>=3.2.0 in c:\\users\\mahmoudnasser\\appdata\\local\\programs\\python\\python310\\lib\\site-packages (from streamlit>=0.63->streamlit_option_menu) (4.2.2)\n",
      "Requirement already satisfied: blinker>=1.0.0 in c:\\users\\mahmoudnasser\\appdata\\local\\programs\\python\\python310\\lib\\site-packages (from streamlit>=0.63->streamlit_option_menu) (1.6.2)\n",
      "Requirement already satisfied: cachetools>=4.0 in c:\\users\\mahmoudnasser\\appdata\\local\\programs\\python\\python310\\lib\\site-packages (from streamlit>=0.63->streamlit_option_menu) (5.3.0)\n",
      "Requirement already satisfied: click>=7.0 in c:\\users\\mahmoudnasser\\appdata\\local\\programs\\python\\python310\\lib\\site-packages (from streamlit>=0.63->streamlit_option_menu) (8.1.3)\n",
      "Requirement already satisfied: importlib-metadata>=1.4 in c:\\users\\mahmoudnasser\\appdata\\local\\programs\\python\\python310\\lib\\site-packages (from streamlit>=0.63->streamlit_option_menu) (6.6.0)\n",
      "Requirement already satisfied: numpy in c:\\users\\mahmoudnasser\\appdata\\local\\programs\\python\\python310\\lib\\site-packages (from streamlit>=0.63->streamlit_option_menu) (1.24.2)\n",
      "Requirement already satisfied: packaging>=14.1 in c:\\users\\mahmoudnasser\\appdata\\local\\programs\\python\\python310\\lib\\site-packages (from streamlit>=0.63->streamlit_option_menu) (23.1)\n",
      "Requirement already satisfied: pandas<3,>=0.25 in c:\\users\\mahmoudnasser\\appdata\\local\\programs\\python\\python310\\lib\\site-packages (from streamlit>=0.63->streamlit_option_menu) (2.0.1)\n",
      "Requirement already satisfied: pillow>=6.2.0 in c:\\users\\mahmoudnasser\\appdata\\local\\programs\\python\\python310\\lib\\site-packages (from streamlit>=0.63->streamlit_option_menu) (9.4.0)\n",
      "Requirement already satisfied: protobuf<4,>=3.12 in c:\\users\\mahmoudnasser\\appdata\\local\\programs\\python\\python310\\lib\\site-packages (from streamlit>=0.63->streamlit_option_menu) (3.20.3)\n",
      "Requirement already satisfied: pyarrow>=4.0 in c:\\users\\mahmoudnasser\\appdata\\local\\programs\\python\\python310\\lib\\site-packages (from streamlit>=0.63->streamlit_option_menu) (12.0.0)\n",
      "Requirement already satisfied: pympler>=0.9 in c:\\users\\mahmoudnasser\\appdata\\local\\programs\\python\\python310\\lib\\site-packages (from streamlit>=0.63->streamlit_option_menu) (1.0.1)\n",
      "Requirement already satisfied: python-dateutil in c:\\users\\mahmoudnasser\\appdata\\local\\programs\\python\\python310\\lib\\site-packages (from streamlit>=0.63->streamlit_option_menu) (2.8.2)\n",
      "Requirement already satisfied: requests>=2.4 in c:\\users\\mahmoudnasser\\appdata\\local\\programs\\python\\python310\\lib\\site-packages (from streamlit>=0.63->streamlit_option_menu) (2.28.1)\n",
      "Requirement already satisfied: rich>=10.11.0 in c:\\users\\mahmoudnasser\\appdata\\local\\programs\\python\\python310\\lib\\site-packages (from streamlit>=0.63->streamlit_option_menu) (13.3.1)\n",
      "Requirement already satisfied: tenacity<9,>=8.0.0 in c:\\users\\mahmoudnasser\\appdata\\local\\programs\\python\\python310\\lib\\site-packages (from streamlit>=0.63->streamlit_option_menu) (8.2.2)\n",
      "Requirement already satisfied: toml in c:\\users\\mahmoudnasser\\appdata\\local\\programs\\python\\python310\\lib\\site-packages (from streamlit>=0.63->streamlit_option_menu) (0.10.2)\n",
      "Requirement already satisfied: typing-extensions>=3.10.0.0 in c:\\users\\mahmoudnasser\\appdata\\local\\programs\\python\\python310\\lib\\site-packages (from streamlit>=0.63->streamlit_option_menu) (4.5.0)\n",
      "Requirement already satisfied: tzlocal>=1.1 in c:\\users\\mahmoudnasser\\appdata\\local\\programs\\python\\python310\\lib\\site-packages (from streamlit>=0.63->streamlit_option_menu) (4.3)\n",
      "Requirement already satisfied: validators>=0.2 in c:\\users\\mahmoudnasser\\appdata\\local\\programs\\python\\python310\\lib\\site-packages (from streamlit>=0.63->streamlit_option_menu) (0.20.0)\n",
      "Requirement already satisfied: gitpython!=3.1.19 in c:\\users\\mahmoudnasser\\appdata\\local\\programs\\python\\python310\\lib\\site-packages (from streamlit>=0.63->streamlit_option_menu) (3.1.31)\n",
      "Requirement already satisfied: pydeck>=0.1.dev5 in c:\\users\\mahmoudnasser\\appdata\\local\\programs\\python\\python310\\lib\\site-packages (from streamlit>=0.63->streamlit_option_menu) (0.8.1b0)\n",
      "Requirement already satisfied: tornado>=6.0.3 in c:\\users\\mahmoudnasser\\appdata\\local\\programs\\python\\python310\\lib\\site-packages (from streamlit>=0.63->streamlit_option_menu) (6.3.1)\n",
      "Requirement already satisfied: watchdog in c:\\users\\mahmoudnasser\\appdata\\local\\programs\\python\\python310\\lib\\site-packages (from streamlit>=0.63->streamlit_option_menu) (3.0.0)\n",
      "Requirement already satisfied: entrypoints in c:\\users\\mahmoudnasser\\appdata\\local\\programs\\python\\python310\\lib\\site-packages (from altair<5,>=3.2.0->streamlit>=0.63->streamlit_option_menu) (0.4)\n",
      "Requirement already satisfied: jinja2 in c:\\users\\mahmoudnasser\\appdata\\local\\programs\\python\\python310\\lib\\site-packages (from altair<5,>=3.2.0->streamlit>=0.63->streamlit_option_menu) (3.1.2)\n",
      "Requirement already satisfied: jsonschema>=3.0 in c:\\users\\mahmoudnasser\\appdata\\local\\programs\\python\\python310\\lib\\site-packages (from altair<5,>=3.2.0->streamlit>=0.63->streamlit_option_menu) (4.17.3)\n",
      "Requirement already satisfied: toolz in c:\\users\\mahmoudnasser\\appdata\\local\\programs\\python\\python310\\lib\\site-packages (from altair<5,>=3.2.0->streamlit>=0.63->streamlit_option_menu) (0.12.0)\n",
      "Requirement already satisfied: colorama in c:\\users\\mahmoudnasser\\appdata\\local\\programs\\python\\python310\\lib\\site-packages (from click>=7.0->streamlit>=0.63->streamlit_option_menu) (0.4.6)\n",
      "Requirement already satisfied: gitdb<5,>=4.0.1 in c:\\users\\mahmoudnasser\\appdata\\local\\programs\\python\\python310\\lib\\site-packages (from gitpython!=3.1.19->streamlit>=0.63->streamlit_option_menu) (4.0.10)\n",
      "Requirement already satisfied: zipp>=0.5 in c:\\users\\mahmoudnasser\\appdata\\local\\programs\\python\\python310\\lib\\site-packages (from importlib-metadata>=1.4->streamlit>=0.63->streamlit_option_menu) (3.15.0)\n",
      "Requirement already satisfied: pytz>=2020.1 in c:\\users\\mahmoudnasser\\appdata\\local\\programs\\python\\python310\\lib\\site-packages (from pandas<3,>=0.25->streamlit>=0.63->streamlit_option_menu) (2023.3)\n",
      "Requirement already satisfied: tzdata>=2022.1 in c:\\users\\mahmoudnasser\\appdata\\local\\programs\\python\\python310\\lib\\site-packages (from pandas<3,>=0.25->streamlit>=0.63->streamlit_option_menu) (2023.3)\n",
      "Requirement already satisfied: six>=1.5 in c:\\users\\mahmoudnasser\\appdata\\local\\programs\\python\\python310\\lib\\site-packages (from python-dateutil->streamlit>=0.63->streamlit_option_menu) (1.16.0)\n",
      "Requirement already satisfied: charset-normalizer<3,>=2 in c:\\users\\mahmoudnasser\\appdata\\local\\programs\\python\\python310\\lib\\site-packages (from requests>=2.4->streamlit>=0.63->streamlit_option_menu) (2.1.1)\n",
      "Requirement already satisfied: idna<4,>=2.5 in c:\\users\\mahmoudnasser\\appdata\\local\\programs\\python\\python310\\lib\\site-packages (from requests>=2.4->streamlit>=0.63->streamlit_option_menu) (3.4)\n",
      "Requirement already satisfied: urllib3<1.27,>=1.21.1 in c:\\users\\mahmoudnasser\\appdata\\local\\programs\\python\\python310\\lib\\site-packages (from requests>=2.4->streamlit>=0.63->streamlit_option_menu) (1.26.15)\n",
      "Requirement already satisfied: certifi>=2017.4.17 in c:\\users\\mahmoudnasser\\appdata\\local\\programs\\python\\python310\\lib\\site-packages (from requests>=2.4->streamlit>=0.63->streamlit_option_menu) (2022.12.7)\n",
      "Requirement already satisfied: markdown-it-py<3.0.0,>=2.1.0 in c:\\users\\mahmoudnasser\\appdata\\local\\programs\\python\\python310\\lib\\site-packages (from rich>=10.11.0->streamlit>=0.63->streamlit_option_menu) (2.2.0)\n",
      "Requirement already satisfied: pygments<3.0.0,>=2.14.0 in c:\\users\\mahmoudnasser\\appdata\\local\\programs\\python\\python310\\lib\\site-packages (from rich>=10.11.0->streamlit>=0.63->streamlit_option_menu) (2.15.0)\n",
      "Requirement already satisfied: pytz-deprecation-shim in c:\\users\\mahmoudnasser\\appdata\\local\\programs\\python\\python310\\lib\\site-packages (from tzlocal>=1.1->streamlit>=0.63->streamlit_option_menu) (0.1.0.post0)\n",
      "Requirement already satisfied: decorator>=3.4.0 in c:\\users\\mahmoudnasser\\appdata\\local\\programs\\python\\python310\\lib\\site-packages (from validators>=0.2->streamlit>=0.63->streamlit_option_menu) (4.4.2)\n",
      "Requirement already satisfied: smmap<6,>=3.0.1 in c:\\users\\mahmoudnasser\\appdata\\local\\programs\\python\\python310\\lib\\site-packages (from gitdb<5,>=4.0.1->gitpython!=3.1.19->streamlit>=0.63->streamlit_option_menu) (5.0.0)\n",
      "Requirement already satisfied: MarkupSafe>=2.0 in c:\\users\\mahmoudnasser\\appdata\\local\\programs\\python\\python310\\lib\\site-packages (from jinja2->altair<5,>=3.2.0->streamlit>=0.63->streamlit_option_menu) (2.1.2)\n",
      "Requirement already satisfied: attrs>=17.4.0 in c:\\users\\mahmoudnasser\\appdata\\local\\programs\\python\\python310\\lib\\site-packages (from jsonschema>=3.0->altair<5,>=3.2.0->streamlit>=0.63->streamlit_option_menu) (23.1.0)\n",
      "Requirement already satisfied: pyrsistent!=0.17.0,!=0.17.1,!=0.17.2,>=0.14.0 in c:\\users\\mahmoudnasser\\appdata\\local\\programs\\python\\python310\\lib\\site-packages (from jsonschema>=3.0->altair<5,>=3.2.0->streamlit>=0.63->streamlit_option_menu) (0.19.3)\n",
      "Requirement already satisfied: mdurl~=0.1 in c:\\users\\mahmoudnasser\\appdata\\local\\programs\\python\\python310\\lib\\site-packages (from markdown-it-py<3.0.0,>=2.1.0->rich>=10.11.0->streamlit>=0.63->streamlit_option_menu) (0.1.2)\n",
      "Installing collected packages: streamlit_option_menu\n",
      "Successfully installed streamlit_option_menu-0.3.2\n",
      "Note: you may need to restart the kernel to use updated packages.\n"
     ]
    }
   ],
   "source": [
    "pip install streamlit_option_menu"
   ]
  },
  {
   "cell_type": "code",
   "execution_count": 50,
   "metadata": {},
   "outputs": [
    {
     "name": "stdout",
     "output_type": "stream",
     "text": [
      "Overwriting Homepage.py\n"
     ]
    }
   ],
   "source": [
    "import streamlit as st\n",
    "import pandas as pd\n",
    "import numpy as np\n",
    "import pickle\n",
    "from streamlit_jupyter import StreamlitPatcher, tqdm\n",
    "from streamlit_option_menu import option_menu\n",
    "popular_50books=pickle.load(open('top50boock.pkl','rb'))\n",
    "similarity_matrix=pickle.load(open('similaritymatrix.pkl','rb'))\n",
    "#Reading Data\n",
    "popular_50books.set_index('Book-Title',inplace=True)\n",
    "Books=pd.read_csv('recco_data.csv')\n",
    "Books.set_index('Book-Title',inplace=True)\n",
    "Books_list=Books.index.values\n",
    "st.set_page_config(layout=\"wide\")\n",
    "st.title(\"Books Reccomendation app\")\n",
    "def get_top_similar_books(book_name):\n",
    "    scores=similarity_matrix.loc[book_name]\n",
    "    scores=scores.sort_values(ascending=False)[1:7]\n",
    "    distances=scores.index\n",
    "    names=scores.values\n",
    "    return names,distances\n",
    "def draw_cols(df,names,interval=2,p_num=2):\n",
    "        col1,col2,col3=st.columns(3)\n",
    "        with col1:\n",
    "            for i in range(0,interval):\n",
    "                st.markdown(f\"\"\"<h3>{names[i]}</h3>\"\"\",unsafe_allow_html=True)\n",
    "                try:\n",
    "                    st.image(df.loc[names[i]]['Image-URL-L'],use_column_width=True)\n",
    "                except :\n",
    "                    st.markdown(f\"\"\"<h2>Image Not Found</h2>\"\"\",use_column_width=True)\n",
    "                st.write(df.loc[str(names[i])]['Book-Author'])\n",
    "                st.write(df.loc[str(names[i])]['Year-Of-Publication'])\n",
    "                st.write(df.loc[str(names[i])]['Publisher'])\n",
    "        with col2:\n",
    "            for i in range(interval,interval*p_num):\n",
    "                st.markdown(f\"\"\"<h3>{names[i]}</h3>\"\"\",unsafe_allow_html=True)\n",
    "                try:\n",
    "                    st.image(df.loc[names[i]]['Image-URL-L'],use_column_width=True)\n",
    "                except :\n",
    "                    st.markdown(f\"\"\"<h2>Image Not Found</h2>\"\"\",use_column_width=True)\n",
    "                st.write(df.loc[str(names[i])]['Book-Author'])\n",
    "                st.write(df.loc[str(names[i])]['Year-Of-Publication'])\n",
    "                st.write(df.loc[str(names[i])]['Publisher'])\n",
    "        with col3:\n",
    "            for i in range(interval*p_num,interval*p_num+interval):\n",
    "                st.markdown(f\"\"\"<h3>{names[i]}</h3>\"\"\",unsafe_allow_html=True)\n",
    "                try:\n",
    "                    st.image(df.loc[names[i]]['Image-URL-L'],use_column_width=True)\n",
    "                except :\n",
    "                    st.markdown(f\"\"\"<h2>Image Not Found</h2>\"\"\",use_column_width=True)\n",
    "                st.write(df.loc[str(names[i])]['Book-Author'])\n",
    "                st.write(df.loc[str(names[i])]['Year-Of-Publication'])\n",
    "                st.write(df.loc[str(names[i])]['Publisher'])\n",
    "def Reccomendation_page(df,Books_list):\n",
    "    #Streamlit app\n",
    "    selected_book=st.selectbox(\"Choose your favourit Book\",Books_list)\n",
    "    st.divider()\n",
    "    if st.button('Reccomend Books'):\n",
    "        distances,names=get_top_similar_books(selected_book)\n",
    "        draw_cols(Books,names,interval=2,p_num=2)\n",
    "\n",
    "def main_page(df):\n",
    "    st.header('The most Popular 50 Books Based on Average Ratings')\n",
    "    st.divider()\n",
    "    df=popular_50books\n",
    "    names=popular_50books.index.values\n",
    "    draw_cols(df,names,interval=15,p_num=2)\n",
    "       \n",
    "selected=option_menu(menu_title=None,options=['Home',\"Reccomendations\"],\n",
    "                     icons=[\"House\",\"Books\"],\n",
    "                     default_index=0,\n",
    "                     orientation='horizontal')\n",
    "if selected == \"Home\":\n",
    "    main_page(popular_50books)\n",
    "elif selected == \"Reccomendations\":\n",
    "    Reccomendation_page(Books,Books_list)\n",
    "\n"
   ]
  },
  {
   "cell_type": "code",
   "execution_count": 51,
   "metadata": {},
   "outputs": [
    {
     "name": "stdout",
     "output_type": "stream",
     "text": [
      "^C\n"
     ]
    }
   ],
   "source": [
    "!streamlit run Homepage.py && npx localtunnel --port 8080"
   ]
  },
  {
   "cell_type": "code",
   "execution_count": null,
   "metadata": {},
   "outputs": [],
   "source": []
  }
 ],
 "metadata": {
  "kernelspec": {
   "display_name": "Python 3",
   "language": "python",
   "name": "python3"
  },
  "language_info": {
   "codemirror_mode": {
    "name": "ipython",
    "version": 3
   },
   "file_extension": ".py",
   "mimetype": "text/x-python",
   "name": "python",
   "nbconvert_exporter": "python",
   "pygments_lexer": "ipython3",
   "version": "3.10.11"
  },
  "orig_nbformat": 4
 },
 "nbformat": 4,
 "nbformat_minor": 2
}
